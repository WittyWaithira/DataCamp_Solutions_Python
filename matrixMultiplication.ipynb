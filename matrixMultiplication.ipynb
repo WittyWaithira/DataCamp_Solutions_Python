{
  "nbformat": 4,
  "nbformat_minor": 0,
  "metadata": {
    "colab": {
      "name": "lesson1.ipynb",
      "version": "0.3.2",
      "provenance": [],
      "include_colab_link": true
    },
    "kernelspec": {
      "name": "python3",
      "display_name": "Python 3"
    }
  },
  "cells": [
    {
      "cell_type": "markdown",
      "metadata": {
        "id": "view-in-github",
        "colab_type": "text"
      },
      "source": [
        "<a href=\"https://colab.research.google.com/github/WittyWaithira/DataCamp_Solutions_Python/blob/master/matrixMultiplication.ipynb\" target=\"_parent\"><img src=\"https://colab.research.google.com/assets/colab-badge.svg\" alt=\"Open In Colab\"/></a>"
      ]
    },
    {
      "cell_type": "code",
      "metadata": {
        "id": "8iHUCDANQe8H",
        "colab_type": "code",
        "colab": {}
      },
      "source": [
        "import torch"
      ],
      "execution_count": 0,
      "outputs": []
    },
    {
      "cell_type": "code",
      "metadata": {
        "id": "FRxhtBQLQzGD",
        "colab_type": "code",
        "colab": {}
      },
      "source": [
        "def activation(x):\n",
        "  \"\"\"Sigmoid activation function\"\"\"\n",
        "  return 1/(1+torch.exp(-x))\n"
      ],
      "execution_count": 0,
      "outputs": []
    },
    {
      "cell_type": "code",
      "metadata": {
        "id": "5d4E3P0YSC5S",
        "colab_type": "code",
        "colab": {}
      },
      "source": [
        "\n",
        "\n",
        "torch.manual_seed(7) \n",
        "\n",
        "#Features are 5 normal random variables\n",
        "\n",
        "features = torch.randn((1,5))\n",
        "\n",
        "#True weights , random normal variables\n",
        "\n",
        "weights = torch.randn_like(features)\n",
        "\n",
        "# a true bias\n",
        "\n",
        "bias = torch.randn((1,1))\n"
      ],
      "execution_count": 0,
      "outputs": []
    },
    {
      "cell_type": "code",
      "metadata": {
        "id": "sFhfl1gsTwzG",
        "colab_type": "code",
        "outputId": "b4e4b22d-ba06-48bd-de09-56027bf64a52",
        "colab": {
          "base_uri": "https://localhost:8080/",
          "height": 51
        }
      },
      "source": [
        "# labels from our data and true weights\n",
        "y = activation(torch.sum(features*weights)+ bias)\n",
        "print(y)\n",
        "\n",
        "# method 2\n",
        "y = activation((features*weights).sum()+bias)\n",
        "print(y)"
      ],
      "execution_count": 0,
      "outputs": [
        {
          "output_type": "stream",
          "text": [
            "tensor([[0.1595]])\n",
            "tensor([[0.1595]])\n"
          ],
          "name": "stdout"
        }
      ]
    },
    {
      "cell_type": "code",
      "metadata": {
        "id": "xKbq3FUKZyGo",
        "colab_type": "code",
        "outputId": "5c40c747-4b30-43fd-c06e-b94ab89168bf",
        "colab": {
          "base_uri": "https://localhost:8080/",
          "height": 34
        }
      },
      "source": [
        "# Matrix Multiplication\n",
        "\n",
        "y = activation(torch.mm(features,weights.view(5,1))+ bias)\n",
        "print(y)"
      ],
      "execution_count": 0,
      "outputs": [
        {
          "output_type": "stream",
          "text": [
            "tensor([[0.1595]])\n"
          ],
          "name": "stdout"
        }
      ]
    }
  ]
}