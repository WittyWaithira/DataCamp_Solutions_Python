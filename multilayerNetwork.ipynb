{
  "nbformat": 4,
  "nbformat_minor": 0,
  "metadata": {
    "colab": {
      "name": "multilayerNetwork.ipynb",
      "version": "0.3.2",
      "provenance": [],
      "include_colab_link": true
    },
    "kernelspec": {
      "name": "python3",
      "display_name": "Python 3"
    }
  },
  "cells": [
    {
      "cell_type": "markdown",
      "metadata": {
        "id": "view-in-github",
        "colab_type": "text"
      },
      "source": [
        "<a href=\"https://colab.research.google.com/github/WittyWaithira/DataCamp_Solutions_Python/blob/master/multilayerNetwork.ipynb\" target=\"_parent\"><img src=\"https://colab.research.google.com/assets/colab-badge.svg\" alt=\"Open In Colab\"/></a>"
      ]
    },
    {
      "cell_type": "code",
      "metadata": {
        "id": "yQtHEahWduoa",
        "colab_type": "code",
        "colab": {}
      },
      "source": [
        "import torch"
      ],
      "execution_count": 0,
      "outputs": []
    },
    {
      "cell_type": "code",
      "metadata": {
        "id": "pStkczord1lK",
        "colab_type": "code",
        "colab": {}
      },
      "source": [
        "def activation(x):\n",
        "  \"\"\"Sigmoid activation function\"\"\"\n",
        "  return 1/(1+torch.exp(-x))"
      ],
      "execution_count": 0,
      "outputs": []
    },
    {
      "cell_type": "code",
      "metadata": {
        "id": "tKqaWJqtd-Uj",
        "colab_type": "code",
        "colab": {}
      },
      "source": [
        "torch.manual_seed(7)\n",
        "features = torch.randn(1,3)\n",
        "# define the size of each layer in the network\n",
        "\n",
        "n_input = features.shape[1]\n",
        "n_hidden = 2\n",
        "n_output = 1\n",
        "\n",
        "#weights for inputs to hidden layer\n",
        "W1 = torch.randn(n_input,n_hidden)\n",
        "\n",
        "# weights for hidden layer to output layer\n",
        "W2 = torch.randn(n_hidden,n_output)\n",
        "\n",
        "#bias terms for hidden and output layers\n",
        "B1 = torch.randn(1,n_hidden)\n",
        "B2 = torch.randn(1,n_output)\n",
        "\n"
      ],
      "execution_count": 0,
      "outputs": []
    },
    {
      "cell_type": "code",
      "metadata": {
        "id": "Gw6J_T-Sg8xq",
        "colab_type": "code",
        "colab": {
          "base_uri": "https://localhost:8080/",
          "height": 34
        },
        "outputId": "9156ab59-f1d7-42d9-a188-9d70a640d1e4"
      },
      "source": [
        "h = activation(torch.mm(features,W1)+ B1)\n",
        "output = activation(torch.mm(h,W2)+ B2)\n",
        "print(output)"
      ],
      "execution_count": 5,
      "outputs": [
        {
          "output_type": "stream",
          "text": [
            "tensor([[0.3171]])\n"
          ],
          "name": "stdout"
        }
      ]
    }
  ]
}